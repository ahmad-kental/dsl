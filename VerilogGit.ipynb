{
  "nbformat": 4,
  "nbformat_minor": 0,
  "metadata": {
    "colab": {
      "provenance": [],
      "include_colab_link": true
    },
    "kernelspec": {
      "name": "python3",
      "display_name": "Python 3"
    },
    "language_info": {
      "name": "python"
    }
  },
  "cells": [
    {
      "cell_type": "markdown",
      "metadata": {
        "id": "view-in-github",
        "colab_type": "text"
      },
      "source": [
        "<a href=\"https://colab.research.google.com/github/ahmad-kental/dsl/blob/main/VerilogGit.ipynb\" target=\"_parent\"><img src=\"https://colab.research.google.com/assets/colab-badge.svg\" alt=\"Open In Colab\"/></a>"
      ]
    },
    {
      "cell_type": "markdown",
      "source": [
        "## Setup"
      ],
      "metadata": {
        "id": "-SOAGkbBjEll"
      }
    },
    {
      "cell_type": "code",
      "source": [
        "!pip install git+https://github.com/pe8sutd/eda4u &> /dev/null\n",
        "!git clone https://github.com/pe8sutd/eda4u &> /dev/null\n",
        "%load_ext plugin"
      ],
      "metadata": {
        "id": "3i_YuG_6jDoN"
      },
      "execution_count": 1,
      "outputs": []
    },
    {
      "cell_type": "markdown",
      "source": [],
      "metadata": {
        "id": "ZF4RKd6oWeeR"
      }
    },
    {
      "cell_type": "markdown",
      "source": [
        "## Cover"
      ],
      "metadata": {
        "id": "mRa8NjmDjT78"
      }
    },
    {
      "cell_type": "markdown",
      "source": [
        "![](https://github.com/pe8sutd/DSL2025/blob/main/VerilogColab1/Slide1.PNG?raw=1)"
      ],
      "metadata": {
        "id": "4H7cbD3paJLr"
      }
    },
    {
      "cell_type": "markdown",
      "source": [
        "![](https://github.com/pe8sutd/DSL2025/blob/main/VerilogColab1/Slide2.PNG?raw=1)"
      ],
      "metadata": {
        "id": "dhO_sRn3g_VE"
      }
    },
    {
      "cell_type": "markdown",
      "source": [
        "![](https://github.com/pe8sutd/DSL2025/blob/main/VerilogColab1/Slide3.PNG?raw=1)"
      ],
      "metadata": {
        "id": "WMZHJYtFhCrg"
      }
    },
    {
      "cell_type": "markdown",
      "source": [
        "## Introduction"
      ],
      "metadata": {
        "id": "Hvjtqk8Tk5RF"
      }
    },
    {
      "cell_type": "markdown",
      "source": [
        "![](https://github.com/pe8sutd/DSL2025/blob/main/VerilogColab1/Slide4.PNG?raw=1)"
      ],
      "metadata": {
        "id": "w_kjnXlyhCpO"
      }
    },
    {
      "cell_type": "markdown",
      "source": [
        "![](https://github.com/pe8sutd/DSL2025/blob/main/VerilogColab1/Slide5.PNG?raw=1)"
      ],
      "metadata": {
        "id": "FZhhY0nVhCm6"
      }
    },
    {
      "cell_type": "markdown",
      "source": [
        "![](https://github.com/pe8sutd/DSL2025/blob/main/VerilogColab1/Slide6.PNG?raw=1)"
      ],
      "metadata": {
        "id": "gwg0zPq5hCkj"
      }
    },
    {
      "cell_type": "markdown",
      "source": [
        "![](https://github.com/pe8sutd/DSL2025/blob/main/VerilogColab1/Slide6.PNG?raw=1)"
      ],
      "metadata": {
        "id": "syqzXvfvhCiM"
      }
    },
    {
      "cell_type": "markdown",
      "source": [
        "## Typical Design Flow"
      ],
      "metadata": {
        "id": "0rLiTy-KlA-8"
      }
    },
    {
      "cell_type": "markdown",
      "source": [
        "![](https://github.com/pe8sutd/DSL2025/blob/main/VerilogColab1/Slide7.PNG?raw=1)"
      ],
      "metadata": {
        "id": "WthUXRDfhCfq"
      }
    },
    {
      "cell_type": "markdown",
      "source": [
        "![](https://github.com/pe8sutd/DSL2025/blob/main/VerilogColab1/Slide8.PNG?raw=1)"
      ],
      "metadata": {
        "id": "OBuTZS84hCdj"
      }
    },
    {
      "cell_type": "markdown",
      "source": [
        "![](https://github.com/pe8sutd/DSL2025/blob/main/VerilogColab1/Slide9.PNG?raw=1)"
      ],
      "metadata": {
        "id": "afrKCZ2ChCbT"
      }
    },
    {
      "cell_type": "markdown",
      "source": [
        "![](https://github.com/pe8sutd/DSL2025/blob/main/VerilogColab1/Slide10.PNG?raw=1)"
      ],
      "metadata": {
        "id": "slQRXz7yhCZD"
      }
    },
    {
      "cell_type": "markdown",
      "source": [],
      "metadata": {
        "id": "lt17VxhzlNON"
      }
    },
    {
      "cell_type": "markdown",
      "source": [
        "![](https://github.com/pe8sutd/DSL2025/blob/main/VerilogColab1/Slide11.PNG?raw=1)"
      ],
      "metadata": {
        "id": "WYZww7aqhCWy"
      }
    },
    {
      "cell_type": "markdown",
      "source": [
        "![](https://github.com/pe8sutd/DSL2025/blob/main/VerilogColab1/Slide12.PNG?raw=1)"
      ],
      "metadata": {
        "id": "nh_OLg8ehCUj"
      }
    },
    {
      "cell_type": "markdown",
      "source": [
        "![](https://github.com/pe8sutd/DSL2025/blob/main/VerilogColab1/Slide13.PNG?raw=1)"
      ],
      "metadata": {
        "id": "XY4UEbyVhCSD"
      }
    },
    {
      "cell_type": "markdown",
      "source": [
        "![](https://github.com/pe8sutd/DSL2025/blob/main/VerilogColab1/Slide14.PNG?raw=1)\n"
      ],
      "metadata": {
        "id": "OrP0KK8vhCNr"
      }
    },
    {
      "cell_type": "markdown",
      "source": [
        "## Concept\n",
        "1. Using %%print_verilog to view the circuit diagram of the above module.\n",
        "2. In Structure Description, \"wire\" for outand is missing. Find a way to add \"wire\" declaration.\n",
        "3. Identify the difference between the Structure and Behavioural designs."
      ],
      "metadata": {
        "id": "t2y6wwWCjadc"
      }
    },
    {
      "cell_type": "code",
      "source": [
        "%%print_verilog\n",
        "\n",
        "//Structure Description\n",
        "module logicf (OUT,A,B,C);\n",
        "  input A,B,C;\n",
        "  output OUT;\n",
        "  wire outand;\n",
        "\n",
        "  and g1 (outand,A,B);\n",
        "  or g2 (OUT,outand,C);\n",
        "\n",
        "endmodule\n"
      ],
      "metadata": {
        "collapsed": true,
        "id": "hKaftZYBju80",
        "outputId": "56ff977d-6d76-4338-a02b-540b38bc9317",
        "colab": {
          "base_uri": "https://localhost:8080/",
          "height": 168
        }
      },
      "execution_count": null,
      "outputs": [
        {
          "output_type": "stream",
          "name": "stdout",
          "text": [
            "Installing. Please wait... done!\n"
          ]
        },
        {
          "output_type": "display_data",
          "data": {
            "text/plain": [
              "<IPython.core.display.SVG object>"
            ],
            "image/svg+xml": "<svg xmlns=\"http://www.w3.org/2000/svg\" xmlns:xlink=\"http://www.w3.org/1999/xlink\" xmlns:s=\"https://github.com/nturley/netlistsvg\" width=\"249\" height=\"129\"><style>svg {\n  stroke:#000;\n  fill:none;\n}\ntext {\n  fill:#000;\n  stroke:none;\n  font-size:10px;\n  font-weight: bold;\n  font-family: &quot;Courier New&quot;, monospace;\n}\nline {\n    stroke-linecap: round;\n}\n.nodelabel {\n  text-anchor: middle;\n}\n.inputPortLabel {\n  text-anchor: end;\n}\n.splitjoinBody {\n  fill:#000;\n}</style><g s:type=\"and\" transform=\"translate(77,27)\" s:width=\"30\" s:height=\"25\" id=\"cell_$and$/content/code.v:8$1\"><s:alias val=\"$and\"/><s:alias val=\"$logic_and\"/><s:alias val=\"$_AND_\"/><s:alias val=\"$reduce_and\"/><path d=\"M0,0 L0,25 L15,25 A15 12.5 0 0 0 15,0 Z\" class=\"cell_$and$/content/code.v:8$1\"/><g s:x=\"0\" s:y=\"5\" s:pid=\"A\"/><g s:x=\"0\" s:y=\"20\" s:pid=\"B\"/><g s:x=\"30\" s:y=\"12.5\" s:pid=\"Y\"/></g><g s:type=\"or\" transform=\"translate(142,34.5)\" s:width=\"30\" s:height=\"25\" id=\"cell_$or$/content/code.v:9$2\"><s:alias val=\"$or\"/><s:alias val=\"$logic_or\"/><s:alias val=\"$_OR_\"/><s:alias val=\"$reduce_or\"/><s:alias val=\"$reduce_bool\"/><path d=\"M0,0 A30 25 0 0 1 0,25 A30 25 0 0 0 30,12.5 A30 25 0 0 0 0,0\" class=\"cell_$or$/content/code.v:9$2\"/><g s:x=\"2\" s:y=\"5\" s:pid=\"A\"/><g s:x=\"2\" s:y=\"20\" s:pid=\"B\"/><g s:x=\"30\" s:y=\"12.5\" s:pid=\"Y\"/></g><g s:type=\"outputExt\" transform=\"translate(207,37)\" s:width=\"30\" s:height=\"20\" id=\"cell_OUT\"><text x=\"15\" y=\"-4\" class=\"nodelabel cell_OUT\" s:attribute=\"ref\">OUT</text><s:alias val=\"$_outputExt_\"/><path d=\"M30,0 L30,20 L15,20 L0,10 L15,0 Z\" class=\"cell_OUT\"/><g s:x=\"0\" s:y=\"10\" s:pid=\"A\"/></g><g s:type=\"inputExt\" transform=\"translate(12,22)\" s:width=\"30\" s:height=\"20\" id=\"cell_A\"><text x=\"15\" y=\"-4\" class=\"nodelabel cell_A\" s:attribute=\"ref\">A</text><s:alias val=\"$_inputExt_\"/><path d=\"M0,0 L0,20 L15,20 L30,10 L15,0 Z\" class=\"cell_A\"/><g s:x=\"30\" s:y=\"10\" s:pid=\"Y\"/></g><g s:type=\"inputExt\" transform=\"translate(12,87)\" s:width=\"30\" s:height=\"20\" id=\"cell_B\"><text x=\"15\" y=\"-4\" class=\"nodelabel cell_B\" s:attribute=\"ref\">B</text><s:alias val=\"$_inputExt_\"/><path d=\"M0,0 L0,20 L15,20 L30,10 L15,0 Z\" class=\"cell_B\"/><g s:x=\"30\" s:y=\"10\" s:pid=\"Y\"/></g><g s:type=\"inputExt\" transform=\"translate(77,97)\" s:width=\"30\" s:height=\"20\" id=\"cell_C\"><text x=\"15\" y=\"-4\" class=\"nodelabel cell_C\" s:attribute=\"ref\">C</text><s:alias val=\"$_inputExt_\"/><path d=\"M0,0 L0,20 L15,20 L30,10 L15,0 Z\" class=\"cell_C\"/><g s:x=\"30\" s:y=\"10\" s:pid=\"Y\"/></g><line x1=\"42\" x2=\"77\" y1=\"32\" y2=\"32\" class=\"net_3 width_1\" style=\"stroke-width: 1\"/><line x1=\"42\" x2=\"52\" y1=\"97\" y2=\"97\" class=\"net_4 width_1\" style=\"stroke-width: 1\"/><line x1=\"52\" x2=\"52\" y1=\"97\" y2=\"47\" class=\"net_4 width_1\" style=\"stroke-width: 1\"/><line x1=\"52\" x2=\"77\" y1=\"47\" y2=\"47\" class=\"net_4 width_1\" style=\"stroke-width: 1\"/><line x1=\"107\" x2=\"144\" y1=\"39.5\" y2=\"39.5\" class=\"net_6 width_1\" style=\"stroke-width: 1\"/><line x1=\"107\" x2=\"117\" y1=\"107\" y2=\"107\" class=\"net_5 width_1\" style=\"stroke-width: 1\"/><line x1=\"117\" x2=\"117\" y1=\"107\" y2=\"54.5\" class=\"net_5 width_1\" style=\"stroke-width: 1\"/><line x1=\"117\" x2=\"144\" y1=\"54.5\" y2=\"54.5\" class=\"net_5 width_1\" style=\"stroke-width: 1\"/><line x1=\"172\" x2=\"207\" y1=\"47\" y2=\"47\" class=\"net_2 width_1\" style=\"stroke-width: 1\"/></svg>"
          },
          "metadata": {}
        }
      ]
    },
    {
      "cell_type": "code",
      "source": [
        "%%print_verilog\n",
        "\n",
        "//Behavioural Description\n",
        "module logicf (OUT,A,B,C);\n",
        "  input A,B,C;\n",
        "  output OUT;\n",
        "  reg OUT;\n",
        "\n",
        "  always @ (A or B or C)\n",
        "      OUT = A & B | C;\n",
        "\n",
        "endmodule\n"
      ],
      "metadata": {
        "collapsed": true,
        "id": "nHFU5c12mCM9",
        "outputId": "1cd01127-6b80-4cd5-bbc1-95ce75a5196f",
        "colab": {
          "base_uri": "https://localhost:8080/",
          "height": 150
        }
      },
      "execution_count": null,
      "outputs": [
        {
          "output_type": "display_data",
          "data": {
            "text/plain": [
              "<IPython.core.display.SVG object>"
            ],
            "image/svg+xml": "<svg xmlns=\"http://www.w3.org/2000/svg\" xmlns:xlink=\"http://www.w3.org/1999/xlink\" xmlns:s=\"https://github.com/nturley/netlistsvg\" width=\"249\" height=\"129\"><style>svg {\n  stroke:#000;\n  fill:none;\n}\ntext {\n  fill:#000;\n  stroke:none;\n  font-size:10px;\n  font-weight: bold;\n  font-family: &quot;Courier New&quot;, monospace;\n}\nline {\n    stroke-linecap: round;\n}\n.nodelabel {\n  text-anchor: middle;\n}\n.inputPortLabel {\n  text-anchor: end;\n}\n.splitjoinBody {\n  fill:#000;\n}</style><g s:type=\"and\" transform=\"translate(77,27)\" s:width=\"30\" s:height=\"25\" id=\"cell_$and$/content/code.v:9$2\"><s:alias val=\"$and\"/><s:alias val=\"$logic_and\"/><s:alias val=\"$_AND_\"/><s:alias val=\"$reduce_and\"/><path d=\"M0,0 L0,25 L15,25 A15 12.5 0 0 0 15,0 Z\" class=\"cell_$and$/content/code.v:9$2\"/><g s:x=\"0\" s:y=\"5\" s:pid=\"A\"/><g s:x=\"0\" s:y=\"20\" s:pid=\"B\"/><g s:x=\"30\" s:y=\"12.5\" s:pid=\"Y\"/></g><g s:type=\"or\" transform=\"translate(142,34.5)\" s:width=\"30\" s:height=\"25\" id=\"cell_$or$/content/code.v:9$3\"><s:alias val=\"$or\"/><s:alias val=\"$logic_or\"/><s:alias val=\"$_OR_\"/><s:alias val=\"$reduce_or\"/><s:alias val=\"$reduce_bool\"/><path d=\"M0,0 A30 25 0 0 1 0,25 A30 25 0 0 0 30,12.5 A30 25 0 0 0 0,0\" class=\"cell_$or$/content/code.v:9$3\"/><g s:x=\"2\" s:y=\"5\" s:pid=\"A\"/><g s:x=\"2\" s:y=\"20\" s:pid=\"B\"/><g s:x=\"30\" s:y=\"12.5\" s:pid=\"Y\"/></g><g s:type=\"outputExt\" transform=\"translate(207,37)\" s:width=\"30\" s:height=\"20\" id=\"cell_OUT\"><text x=\"15\" y=\"-4\" class=\"nodelabel cell_OUT\" s:attribute=\"ref\">OUT</text><s:alias val=\"$_outputExt_\"/><path d=\"M30,0 L30,20 L15,20 L0,10 L15,0 Z\" class=\"cell_OUT\"/><g s:x=\"0\" s:y=\"10\" s:pid=\"A\"/></g><g s:type=\"inputExt\" transform=\"translate(12,22)\" s:width=\"30\" s:height=\"20\" id=\"cell_A\"><text x=\"15\" y=\"-4\" class=\"nodelabel cell_A\" s:attribute=\"ref\">A</text><s:alias val=\"$_inputExt_\"/><path d=\"M0,0 L0,20 L15,20 L30,10 L15,0 Z\" class=\"cell_A\"/><g s:x=\"30\" s:y=\"10\" s:pid=\"Y\"/></g><g s:type=\"inputExt\" transform=\"translate(12,87)\" s:width=\"30\" s:height=\"20\" id=\"cell_B\"><text x=\"15\" y=\"-4\" class=\"nodelabel cell_B\" s:attribute=\"ref\">B</text><s:alias val=\"$_inputExt_\"/><path d=\"M0,0 L0,20 L15,20 L30,10 L15,0 Z\" class=\"cell_B\"/><g s:x=\"30\" s:y=\"10\" s:pid=\"Y\"/></g><g s:type=\"inputExt\" transform=\"translate(77,97)\" s:width=\"30\" s:height=\"20\" id=\"cell_C\"><text x=\"15\" y=\"-4\" class=\"nodelabel cell_C\" s:attribute=\"ref\">C</text><s:alias val=\"$_inputExt_\"/><path d=\"M0,0 L0,20 L15,20 L30,10 L15,0 Z\" class=\"cell_C\"/><g s:x=\"30\" s:y=\"10\" s:pid=\"Y\"/></g><line x1=\"42\" x2=\"77\" y1=\"32\" y2=\"32\" class=\"net_3 width_1\" style=\"stroke-width: 1\"/><line x1=\"42\" x2=\"52\" y1=\"97\" y2=\"97\" class=\"net_4 width_1\" style=\"stroke-width: 1\"/><line x1=\"52\" x2=\"52\" y1=\"97\" y2=\"47\" class=\"net_4 width_1\" style=\"stroke-width: 1\"/><line x1=\"52\" x2=\"77\" y1=\"47\" y2=\"47\" class=\"net_4 width_1\" style=\"stroke-width: 1\"/><line x1=\"107\" x2=\"144\" y1=\"39.5\" y2=\"39.5\" class=\"net_6 width_1\" style=\"stroke-width: 1\"/><line x1=\"107\" x2=\"117\" y1=\"107\" y2=\"107\" class=\"net_5 width_1\" style=\"stroke-width: 1\"/><line x1=\"117\" x2=\"117\" y1=\"107\" y2=\"54.5\" class=\"net_5 width_1\" style=\"stroke-width: 1\"/><line x1=\"117\" x2=\"144\" y1=\"54.5\" y2=\"54.5\" class=\"net_5 width_1\" style=\"stroke-width: 1\"/><line x1=\"172\" x2=\"207\" y1=\"47\" y2=\"47\" class=\"net_2 width_1\" style=\"stroke-width: 1\"/></svg>"
          },
          "metadata": {}
        }
      ]
    },
    {
      "cell_type": "markdown",
      "source": [
        "## Verilog Convention"
      ],
      "metadata": {
        "id": "RmNaDVvZlswU"
      }
    },
    {
      "cell_type": "markdown",
      "source": [
        "![](https://github.com/pe8sutd/DSL2025/blob/main/VerilogColab1/Slide15.PNG?raw=1)\n"
      ],
      "metadata": {
        "id": "S4komjpIhCLL"
      }
    },
    {
      "cell_type": "markdown",
      "source": [
        "![](https://github.com/pe8sutd/DSL2025/blob/main/VerilogColab1/Slide16.PNG?raw=1)\n"
      ],
      "metadata": {
        "id": "PZ9Kw5aShCJC"
      }
    },
    {
      "cell_type": "markdown",
      "source": [
        "![](https://github.com/pe8sutd/DSL2025/blob/main/VerilogColab1/Slide17.PNG?raw=1)"
      ],
      "metadata": {
        "id": "5Y_4Lb0rhCGi"
      }
    },
    {
      "cell_type": "markdown",
      "source": [
        "![](https://github.com/pe8sutd/DSL2025/blob/main/VerilogColab1/Slide18.PNG?raw=1)"
      ],
      "metadata": {
        "id": "8NCMaS7yhCES"
      }
    },
    {
      "cell_type": "markdown",
      "source": [
        "![](https://github.com/pe8sutd/DSL2025/blob/main/VerilogColab1/Slide19.PNG?raw=1)"
      ],
      "metadata": {
        "id": "K6IIYQVJhCB7"
      }
    },
    {
      "cell_type": "code",
      "source": [
        "print('Quotient', 422 // 16) # Floor division (//) for quotient\n",
        "print('Remainder',422 % 16)  # Modulo operator (%) for remainder"
      ],
      "metadata": {
        "id": "zGtLaMNToDtu",
        "outputId": "ce02c945-4870-4891-e838-48c625518882",
        "colab": {
          "base_uri": "https://localhost:8080/"
        }
      },
      "execution_count": null,
      "outputs": [
        {
          "output_type": "stream",
          "name": "stdout",
          "text": [
            "Quotient 26\n",
            "Remainder 6\n"
          ]
        }
      ]
    },
    {
      "cell_type": "markdown",
      "source": [
        "## Operation\n",
        "1. Prompt to Gemini \"python code to do division, results Quotient, and Remainder\".\n",
        "\n",
        "2. Run a new code cell for the generated code."
      ],
      "metadata": {
        "id": "xqehT8xZpZ_O"
      }
    },
    {
      "cell_type": "code",
      "source": [
        "def get_quotient_remainder(dividend, divisor):\n",
        "  \"\"\"\n",
        "  Calculates the quotient and remainder of a division.\n",
        "\n",
        "  Args:\n",
        "    dividend: The number being divided.\n",
        "    divisor: The number dividing the dividend.\n",
        "\n",
        "  Returns:\n",
        "    A tuple containing the quotient and remainder.\n",
        "  \"\"\"\n",
        "  quotient = dividend // divisor  # Floor division (//) for quotient\n",
        "  remainder = dividend % divisor  # Modulo operator (%) for remainder\n",
        "  return quotient, remainder\n",
        "\n",
        "# Example usage\n",
        "dividend = 422\n",
        "divisor = 16\n",
        "\n",
        "quotient, remainder = get_quotient_remainder(dividend, divisor)\n",
        "\n",
        "print(\"Quotient:\", quotient)\n",
        "print(\"Remainder:\", remainder)"
      ],
      "metadata": {
        "id": "rnhcCt3ZpMLv",
        "outputId": "6c5b5f4c-f84c-4de1-a739-1b618ae9ebc0",
        "colab": {
          "base_uri": "https://localhost:8080/"
        }
      },
      "execution_count": null,
      "outputs": [
        {
          "output_type": "stream",
          "name": "stdout",
          "text": [
            "Quotient: 26\n",
            "Remainder: 6\n"
          ]
        }
      ]
    },
    {
      "cell_type": "markdown",
      "source": [
        "3. Prompt to Gemini \"continue divide the number till the Quotient is zero, print all the intermediate Quotient and Remainder\"."
      ],
      "metadata": {
        "id": "Bw0O1RQwq8wb"
      }
    },
    {
      "cell_type": "code",
      "source": [
        "def divide_until_zero(dividend, divisor):\n",
        "  \"\"\"\n",
        "  Divides the dividend by the divisor repeatedly until the quotient is zero,\n",
        "  printing intermediate quotients and remainders.\n",
        "\n",
        "  Args:\n",
        "    dividend: The initial number to divide.\n",
        "    divisor: The number to divide by.\n",
        "  \"\"\"\n",
        "  quotient = dividend\n",
        "  while quotient != 0:\n",
        "    remainder = quotient % divisor\n",
        "    quotient //= divisor\n",
        "    print(\"Quotient:\", quotient, \"Remainder:\", remainder)\n",
        "\n",
        "# Example usage\n",
        "dividend = 422\n",
        "divisor = 16\n",
        "\n",
        "divide_until_zero(dividend, divisor)"
      ],
      "metadata": {
        "id": "R3biWhmRp05m",
        "outputId": "174e897f-f419-43cf-a609-5b47f3c6c2ba",
        "colab": {
          "base_uri": "https://localhost:8080/"
        }
      },
      "execution_count": null,
      "outputs": [
        {
          "output_type": "stream",
          "name": "stdout",
          "text": [
            "Quotient: 26 Remainder: 6\n",
            "Quotient: 1 Remainder: 10\n",
            "Quotient: 0 Remainder: 1\n"
          ]
        }
      ]
    },
    {
      "cell_type": "markdown",
      "source": [
        "![](https://github.com/pe8sutd/DSL2025/blob/main/VerilogColab1/Slide20.PNG?raw=1)"
      ],
      "metadata": {
        "id": "DY8onoWHhB_j"
      }
    },
    {
      "cell_type": "markdown",
      "source": [
        "![](https://github.com/pe8sutd/DSL2025/blob/main/VerilogColab1/Slide21.PNG?raw=1)"
      ],
      "metadata": {
        "id": "smHoamgshB9L"
      }
    },
    {
      "cell_type": "markdown",
      "source": [
        "![](https://github.com/pe8sutd/DSL2025/blob/main/VerilogColab1/Slide22.PNG?raw=1)"
      ],
      "metadata": {
        "id": "a3Gu7WtehB67"
      }
    },
    {
      "cell_type": "markdown",
      "source": [
        "![](https://github.com/pe8sutd/DSL2025/blob/main/VerilogColab1/Slide23.PNG?raw=1)"
      ],
      "metadata": {
        "id": "KFoT7YS-hB4b"
      }
    },
    {
      "cell_type": "markdown",
      "source": [
        "![](https://github.com/pe8sutd/DSL2025/blob/main/VerilogColab1/Slide24.PNG?raw=1)"
      ],
      "metadata": {
        "id": "Q9-9IJZzhB1z"
      }
    },
    {
      "cell_type": "markdown",
      "source": [
        "![](https://github.com/pe8sutd/DSL2025/blob/main/VerilogColab1/Slide25.PNG?raw=1)"
      ],
      "metadata": {
        "id": "46EOervLhBzT"
      }
    },
    {
      "cell_type": "markdown",
      "source": [
        "## Structural Description - Examples"
      ],
      "metadata": {
        "id": "hoesIsP8j1ul"
      }
    },
    {
      "cell_type": "markdown",
      "source": [
        "![](https://github.com/pe8sutd/DSL2025/blob/main/VerilogColab1/Slide26.PNG?raw=1)"
      ],
      "metadata": {
        "id": "jRvwDnORhBwb"
      }
    },
    {
      "cell_type": "markdown",
      "source": [
        "![](https://github.com/pe8sutd/DSL2025/blob/main/VerilogColab1/Slide27.PNG?raw=1)"
      ],
      "metadata": {
        "id": "lg35xbh3hBoc"
      }
    },
    {
      "cell_type": "markdown",
      "source": [
        "![](https://github.com/pe8sutd/DSL2025/blob/main/VerilogColab1/Slide28.PNG?raw=1)"
      ],
      "metadata": {
        "id": "Fe6yWPbzhBjb"
      }
    },
    {
      "cell_type": "markdown",
      "source": [
        "![](https://github.com/pe8sutd/DSL2025/blob/main/VerilogColab1/Slide29.PNG?raw=1)"
      ],
      "metadata": {
        "id": "1du0VxvPhBej"
      }
    },
    {
      "cell_type": "markdown",
      "source": [
        "![](https://github.com/pe8sutd/DSL2025/blob/main/VerilogColab1/Slide30.PNG?raw=1)"
      ],
      "metadata": {
        "id": "Hv0kbwSAnsX-"
      }
    },
    {
      "cell_type": "markdown",
      "source": [
        "![](https://github.com/pe8sutd/DSL2025/blob/main/VerilogColab1/Slide31.PNG?raw=1)"
      ],
      "metadata": {
        "id": "musWBiEFnsVw"
      }
    },
    {
      "cell_type": "markdown",
      "source": [
        "![](https://github.com/pe8sutd/DSL2025/blob/main/VerilogColab1/Slide32.PNG?raw=1)"
      ],
      "metadata": {
        "id": "Dmx7lycinsTV"
      }
    },
    {
      "cell_type": "markdown",
      "source": [
        "![](https://github.com/pe8sutd/DSL2025/blob/main/VerilogColab1/Slide33.PNG?raw=1)"
      ],
      "metadata": {
        "id": "t3IY6lHcnsQl"
      }
    },
    {
      "cell_type": "markdown",
      "source": [
        "![](https://github.com/pe8sutd/DSL2025/blob/main/VerilogColab1/Slide34.PNG?raw=1)"
      ],
      "metadata": {
        "id": "E0kdIIqknsOF"
      }
    },
    {
      "cell_type": "markdown",
      "source": [
        "![](https://github.com/pe8sutd/DSL2025/blob/main/VerilogColab1/Slide35.PNG?raw=1)"
      ],
      "metadata": {
        "id": "VDEg72shnsLc"
      }
    },
    {
      "cell_type": "markdown",
      "source": [
        "![](https://github.com/pe8sutd/DSL2025/blob/main/VerilogColab1/Slide36.PNG?raw=1)"
      ],
      "metadata": {
        "id": "G7LYb--5nsGw"
      }
    },
    {
      "cell_type": "markdown",
      "source": [
        "![](https://github.com/pe8sutd/DSL2025/blob/main/VerilogColab1/Slide37.PNG?raw=1)"
      ],
      "metadata": {
        "id": "Wzdsz4vensE1"
      }
    },
    {
      "cell_type": "markdown",
      "source": [
        "![](https://github.com/pe8sutd/DSL2025/blob/main/VerilogColab1/Slide38.PNG?raw=1)"
      ],
      "metadata": {
        "id": "3rsZKp-znsCB"
      }
    },
    {
      "cell_type": "markdown",
      "source": [
        "![](https://github.com/pe8sutd/DSL2025/blob/main/VerilogColab1/Slide39.PNG?raw=1)"
      ],
      "metadata": {
        "id": "yFhI3kfUnr_W"
      }
    },
    {
      "cell_type": "markdown",
      "source": [
        "![](https://github.com/pe8sutd/DSL2025/blob/main/VerilogColab1/Slide40.PNG?raw=1)"
      ],
      "metadata": {
        "id": "pavC2qgPnr9E"
      }
    },
    {
      "cell_type": "markdown",
      "source": [
        "![](https://github.com/pe8sutd/DSL2025/blob/main/VerilogColab1/Slide41.PNG?raw=1)"
      ],
      "metadata": {
        "id": "i38W4tz4nr6g"
      }
    },
    {
      "cell_type": "markdown",
      "source": [
        "![](https://github.com/pe8sutd/DSL2025/blob/main/VerilogColab1/Slide42.PNG?raw=1)"
      ],
      "metadata": {
        "id": "9fYFvzxwnr4P"
      }
    },
    {
      "cell_type": "markdown",
      "source": [
        "![](https://github.com/pe8sutd/DSL2025/blob/main/VerilogColab1/Slide43.PNG?raw=1)"
      ],
      "metadata": {
        "id": "hiIEfqbDnr1l"
      }
    },
    {
      "cell_type": "markdown",
      "source": [
        "![](https://github.com/pe8sutd/DSL2025/blob/main/VerilogColab1/Slide44.PNG?raw=1)"
      ],
      "metadata": {
        "id": "3NNSuMMHnrS0"
      }
    },
    {
      "cell_type": "markdown",
      "source": [
        "![](https://github.com/pe8sutd/DSL2025/blob/main/VerilogColab1/Slide45.PNG?raw=1)"
      ],
      "metadata": {
        "id": "8lXdJvvAsU5u"
      }
    },
    {
      "cell_type": "markdown",
      "source": [
        "![](https://github.com/pe8sutd/DSL2025/blob/main/VerilogColab1/Slide46.PNG?raw=1)"
      ],
      "metadata": {
        "id": "ud4r6kZQsYpm"
      }
    },
    {
      "cell_type": "markdown",
      "source": [
        "![](https://github.com/pe8sutd/DSL2025/blob/main/VerilogColab1/Slide47.PNG?raw=1)"
      ],
      "metadata": {
        "id": "eQgQp-DEsbK-"
      }
    },
    {
      "cell_type": "markdown",
      "source": [
        "![](https://github.com/pe8sutd/DSL2025/blob/main/VerilogColab1/Slide48.PNG?raw=1)"
      ],
      "metadata": {
        "id": "J-T7cR2Isd1e"
      }
    },
    {
      "cell_type": "markdown",
      "source": [
        "![](https://github.com/pe8sutd/DSL2025/blob/main/VerilogColab1/Slide49.PNG?raw=1)"
      ],
      "metadata": {
        "id": "o5gE3qrusjxG"
      }
    },
    {
      "cell_type": "markdown",
      "source": [
        "![](https://github.com/pe8sutd/DSL2025/blob/main/VerilogColab1/Slide50.PNG?raw=1)"
      ],
      "metadata": {
        "id": "I8NbWnSYsmB2"
      }
    },
    {
      "cell_type": "markdown",
      "source": [
        "## Question"
      ],
      "metadata": {
        "id": "0un_M3HBmTrN"
      }
    },
    {
      "cell_type": "markdown",
      "source": [
        "\n",
        "\n",
        "1. Write Verilog module for the NAND Latch. Using %%print_verilog to view the circuit diagram.\n",
        "2. Write Verilog module and its testbench for the NAND Latch.\n",
        "3. Plot the waveform.\n",
        "\n",
        "Modification:\n",
        "1. In the testbench, set the initial value s=0; r=0; (This is the race condition).\n",
        "2. Rerun. What is your observation if the gate delay of g1, g1 are the same at #1?\n",
        "3. Change one of the gate delay to #2, and observe the waveform again."
      ],
      "metadata": {
        "id": "sGeHkkWxzGij"
      }
    },
    {
      "cell_type": "code",
      "source": [
        "%%print_verilog\n",
        "\n",
        "module nand_rs(q,qb,s,r);\n",
        "  output q,qb;\n",
        "  input s,r;\n",
        "\n",
        "  nand #1 g1 (q,s,qb);\n",
        "  nand #1 g2 (qb,q,r);\n",
        "\n",
        "endmodule"
      ],
      "metadata": {
        "collapsed": true,
        "id": "3qVIHJffzGIr",
        "outputId": "1c720bdd-791e-4fd6-cb0e-2e62b7703566",
        "colab": {
          "base_uri": "https://localhost:8080/",
          "height": 184
        }
      },
      "execution_count": 2,
      "outputs": [
        {
          "output_type": "stream",
          "name": "stdout",
          "text": [
            "Installing. Please wait... done!\n"
          ]
        },
        {
          "output_type": "display_data",
          "data": {
            "text/plain": [
              "<IPython.core.display.SVG object>"
            ],
            "image/svg+xml": "<svg xmlns=\"http://www.w3.org/2000/svg\" xmlns:xlink=\"http://www.w3.org/1999/xlink\" xmlns:s=\"https://github.com/nturley/netlistsvg\" width=\"381\" height=\"145\"><style>svg {\n  stroke:#000;\n  fill:none;\n}\ntext {\n  fill:#000;\n  stroke:none;\n  font-size:10px;\n  font-weight: bold;\n  font-family: &quot;Courier New&quot;, monospace;\n}\nline {\n    stroke-linecap: round;\n}\n.nodelabel {\n  text-anchor: middle;\n}\n.inputPortLabel {\n  text-anchor: end;\n}\n.splitjoinBody {\n  fill:#000;\n}</style><g s:type=\"and\" transform=\"translate(208,38)\" s:width=\"30\" s:height=\"25\" id=\"cell_$and$/content/code.v:6$1\"><s:alias val=\"$and\"/><s:alias val=\"$logic_and\"/><s:alias val=\"$_AND_\"/><s:alias val=\"$reduce_and\"/><path d=\"M0,0 L0,25 L15,25 A15 12.5 0 0 0 15,0 Z\" class=\"cell_$and$/content/code.v:6$1\"/><g s:x=\"0\" s:y=\"5\" s:pid=\"A\"/><g s:x=\"0\" s:y=\"20\" s:pid=\"B\"/><g s:x=\"30\" s:y=\"12.5\" s:pid=\"Y\"/></g><g s:type=\"and\" transform=\"translate(77,103)\" s:width=\"30\" s:height=\"25\" id=\"cell_$and$/content/code.v:7$3\"><s:alias val=\"$and\"/><s:alias val=\"$logic_and\"/><s:alias val=\"$_AND_\"/><s:alias val=\"$reduce_and\"/><path d=\"M0,0 L0,25 L15,25 A15 12.5 0 0 0 15,0 Z\" class=\"cell_$and$/content/code.v:7$3\"/><g s:x=\"0\" s:y=\"5\" s:pid=\"A\"/><g s:x=\"0\" s:y=\"20\" s:pid=\"B\"/><g s:x=\"30\" s:y=\"12.5\" s:pid=\"Y\"/></g><g s:type=\"not\" transform=\"translate(274,40.5)\" s:width=\"30\" s:height=\"20\" id=\"cell_$not$/content/code.v:6$2\"><s:alias val=\"$_NOT_\"/><s:alias val=\"$not\"/><s:alias val=\"$logic_not\"/><path d=\"M0,0 L0,20 L20,10 Z\" class=\"cell_$not$/content/code.v:6$2\"/><circle cx=\"24\" cy=\"10\" r=\"3\" class=\"cell_$not$/content/code.v:6$2\"/><g s:x=\"-1\" s:y=\"10\" s:pid=\"A\"/><g s:x=\"27\" s:y=\"10\" s:pid=\"Y\"/></g><g s:type=\"not\" transform=\"translate(143,105.5)\" s:width=\"30\" s:height=\"20\" id=\"cell_$not$/content/code.v:7$4\"><s:alias val=\"$_NOT_\"/><s:alias val=\"$not\"/><s:alias val=\"$logic_not\"/><path d=\"M0,0 L0,20 L20,10 Z\" class=\"cell_$not$/content/code.v:7$4\"/><circle cx=\"24\" cy=\"10\" r=\"3\" class=\"cell_$not$/content/code.v:7$4\"/><g s:x=\"-1\" s:y=\"10\" s:pid=\"A\"/><g s:x=\"27\" s:y=\"10\" s:pid=\"Y\"/></g><g s:type=\"outputExt\" transform=\"translate(339,40.5)\" s:width=\"30\" s:height=\"20\" id=\"cell_q\"><text x=\"15\" y=\"-4\" class=\"nodelabel cell_q\" s:attribute=\"ref\">q</text><s:alias val=\"$_outputExt_\"/><path d=\"M30,0 L30,20 L15,20 L0,10 L15,0 Z\" class=\"cell_q\"/><g s:x=\"0\" s:y=\"10\" s:pid=\"A\"/></g><g s:type=\"outputExt\" transform=\"translate(339,105.5)\" s:width=\"30\" s:height=\"20\" id=\"cell_qb\"><text x=\"15\" y=\"-4\" class=\"nodelabel cell_qb\" s:attribute=\"ref\">qb</text><s:alias val=\"$_outputExt_\"/><path d=\"M30,0 L30,20 L15,20 L0,10 L15,0 Z\" class=\"cell_qb\"/><g s:x=\"0\" s:y=\"10\" s:pid=\"A\"/></g><g s:type=\"inputExt\" transform=\"translate(143,33)\" s:width=\"30\" s:height=\"20\" id=\"cell_s\"><text x=\"15\" y=\"-4\" class=\"nodelabel cell_s\" s:attribute=\"ref\">s</text><s:alias val=\"$_inputExt_\"/><path d=\"M0,0 L0,20 L15,20 L30,10 L15,0 Z\" class=\"cell_s\"/><g s:x=\"30\" s:y=\"10\" s:pid=\"Y\"/></g><g s:type=\"inputExt\" transform=\"translate(12,113)\" s:width=\"30\" s:height=\"20\" id=\"cell_r\"><text x=\"15\" y=\"-4\" class=\"nodelabel cell_r\" s:attribute=\"ref\">r</text><s:alias val=\"$_inputExt_\"/><path d=\"M0,0 L0,20 L15,20 L30,10 L15,0 Z\" class=\"cell_r\"/><g s:x=\"30\" s:y=\"10\" s:pid=\"Y\"/></g><line x1=\"173\" x2=\"208\" y1=\"43\" y2=\"43\" class=\"net_4 width_1\" style=\"stroke-width: 1\"/><line x1=\"170\" x2=\"183\" y1=\"115.5\" y2=\"115.5\" class=\"net_3 width_1\" style=\"stroke-width: 1\"/><line x1=\"183\" x2=\"183\" y1=\"115.5\" y2=\"58\" class=\"net_3 width_1\" style=\"stroke-width: 1\"/><circle cx=\"183\" cy=\"115.5\" r=\"2\" style=\"fill:#000\" class=\"net_3 width_1\"/><line x1=\"183\" x2=\"208\" y1=\"58\" y2=\"58\" class=\"net_3 width_1\" style=\"stroke-width: 1\"/><line x1=\"170\" x2=\"339\" y1=\"115.5\" y2=\"115.5\" class=\"net_3 width_1\" style=\"stroke-width: 1\"/><line x1=\"301\" x2=\"314\" y1=\"50.5\" y2=\"50.5\" class=\"net_2 width_1\" style=\"stroke-width: 1\"/><line x1=\"314\" x2=\"314\" y1=\"50.5\" y2=\"12\" class=\"net_2 width_1\" style=\"stroke-width: 1\"/><line x1=\"314\" x2=\"52\" y1=\"12\" y2=\"12\" class=\"net_2 width_1\" style=\"stroke-width: 1\"/><line x1=\"52\" x2=\"52\" y1=\"12\" y2=\"108\" class=\"net_2 width_1\" style=\"stroke-width: 1\"/><circle cx=\"314\" cy=\"50.5\" r=\"2\" style=\"fill:#000\" class=\"net_2 width_1\"/><line x1=\"52\" x2=\"77\" y1=\"108\" y2=\"108\" class=\"net_2 width_1\" style=\"stroke-width: 1\"/><line x1=\"301\" x2=\"339\" y1=\"50.5\" y2=\"50.5\" class=\"net_2 width_1\" style=\"stroke-width: 1\"/><line x1=\"42\" x2=\"77\" y1=\"123\" y2=\"123\" class=\"net_5 width_1\" style=\"stroke-width: 1\"/><line x1=\"238\" x2=\"273\" y1=\"50.5\" y2=\"50.5\" class=\"net_6 width_1\" style=\"stroke-width: 1\"/><line x1=\"107\" x2=\"142\" y1=\"115.5\" y2=\"115.5\" class=\"net_7 width_1\" style=\"stroke-width: 1\"/></svg>"
          },
          "metadata": {}
        }
      ]
    },
    {
      "cell_type": "code",
      "source": [
        "%%verilog\n",
        "\n",
        "module nand_rs_tb; //\n",
        "  wire q,qb; reg s,r;\n",
        "\n",
        "  nand_rs i1(q,qb,s,r);\n",
        "\n",
        "  initial begin\n",
        "  $dumpfile(\"nand_rs_tb.vcd\");\n",
        "  $dumpvars;\n",
        "    s = 0; r = 1;\n",
        "    #10 s=1; r=1;\n",
        "    #10 s=1; r=0;\n",
        "    #10 s=1; r=1;\n",
        "    #1 $finish;\n",
        "  $dumpoff;\n",
        "    end\n",
        "\n",
        "endmodule ////\n",
        "\n",
        "module nand_rs(q,qb,s,r); //\n",
        "  output q,qb;\n",
        "  input s,r;\n",
        "\n",
        "  nand #1 g1 (q,s,qb);\n",
        "  nand #1 g2 (qb,q,r);\n",
        "\n",
        "endmodule ////\n"
      ],
      "metadata": {
        "id": "dkmgw44S0dxV",
        "outputId": "f46f749a-9486-4ec4-e2ea-f1c6fa66af10",
        "colab": {
          "base_uri": "https://localhost:8080/"
        }
      },
      "execution_count": 11,
      "outputs": [
        {
          "output_type": "stream",
          "name": "stdout",
          "text": [
            "VCD info: dumpfile nand_rs_tb.vcd opened for output.\n",
            "\n"
          ]
        }
      ]
    },
    {
      "cell_type": "code",
      "source": [
        "%%waveform nand_rs_tb.vcd\n",
        "sign_list = ['nand_rs_tb.q','nand_rs_tb.qb','nand_rs_tb.s','nand_rs_tb.r']\n",
        "time_begin = 0\n",
        "time_end = 31\n",
        "base = 'bin' # bin, dec, dec2, hex, octal"
      ],
      "metadata": {
        "id": "WnmB4v_rOSxr",
        "outputId": "f6cabea8-b71e-495d-923d-df3036a44a76",
        "colab": {
          "base_uri": "https://localhost:8080/",
          "height": 153
        }
      },
      "execution_count": 12,
      "outputs": [
        {
          "output_type": "display_data",
          "data": {
            "text/plain": [
              "<Figure size 3200x500 with 1 Axes>"
            ],
            "image/png": "[encoded data removed]"
          },
          "metadata": {}
        }
      ]
    },
    {
      "cell_type": "markdown",
      "source": [
        "![](https://github.com/pe8sutd/DSL2025/blob/main/VerilogColab1/Slide51.PNG?raw=1)"
      ],
      "metadata": {
        "id": "eO6d9k7qspTe"
      }
    },
    {
      "cell_type": "markdown",
      "source": [
        "![](https://github.com/pe8sutd/DSL2025/blob/main/VerilogColab1/Slide52.PNG?raw=1)"
      ],
      "metadata": {
        "id": "376zKXJRsuxm"
      }
    },
    {
      "cell_type": "markdown",
      "source": [
        "![](https://github.com/pe8sutd/DSL2025/blob/main/VerilogColab1/Slide53.PNG?raw=1)"
      ],
      "metadata": {
        "id": "zcu_DD-YswtG"
      }
    },
    {
      "cell_type": "markdown",
      "source": [
        "![](https://github.com/pe8sutd/DSL2025/blob/main/VerilogColab1/Slide54.PNG?raw=1)"
      ],
      "metadata": {
        "id": "1vr4AQ_us1De"
      }
    },
    {
      "cell_type": "markdown",
      "source": [
        "![](https://github.com/pe8sutd/DSL2025/blob/main/VerilogColab1/Slide55.PNG?raw=1)"
      ],
      "metadata": {
        "id": "1dS4Vszvs3RP"
      }
    },
    {
      "cell_type": "markdown",
      "source": [
        "![](https://github.com/pe8sutd/DSL2025/blob/main/VerilogColab1/Slide56.PNG?raw=1)"
      ],
      "metadata": {
        "id": "XallS1Pms6lP"
      }
    },
    {
      "cell_type": "markdown",
      "source": [
        "## Modification"
      ],
      "metadata": {
        "id": "SgubhbRuXtyx"
      }
    },
    {
      "cell_type": "code",
      "source": [
        "%%verilog\n",
        "\n",
        "module nand_rs_tb; //\n",
        "  wire q,qb; reg s,r;\n",
        "\n",
        "  nand_rs i1(q,qb,s,r);\n",
        "\n",
        "  initial begin\n",
        "  $dumpfile(\"nand_rs_tb.vcd\");\n",
        "  $dumpvars;\n",
        "    s = 1; r = 0;\n",
        "    #10 s=1; r=1;\n",
        "    #10 s=1; r=0;\n",
        "    #10 s=1; r=1;\n",
        "    #1 $finish;\n",
        "  $dumpoff;\n",
        "    end\n",
        "\n",
        "endmodule ////\n",
        "\n",
        "module nand_rs(q,qb,s,r); //\n",
        "  output q,qb;\n",
        "  input s,r;\n",
        "\n",
        "  nand #1 g1 (q,s,qb);\n",
        "  nand #1 g2 (qb,q,r);\n",
        "\n",
        "endmodule ////"
      ],
      "metadata": {
        "colab": {
          "base_uri": "https://localhost:8080/"
        },
        "id": "kNXOdumAXtWR",
        "outputId": "43115b01-e80a-4c87-e7f2-3398dc8081aa"
      },
      "execution_count": 33,
      "outputs": [
        {
          "output_type": "stream",
          "name": "stdout",
          "text": [
            "VCD info: dumpfile nand_rs_tb.vcd opened for output.\n",
            "\n"
          ]
        }
      ]
    },
    {
      "cell_type": "code",
      "source": [
        "%%waveform nand_rs_tb.vcd\n",
        "sign_list = ['nand_rs_tb.q','nand_rs_tb.qb','nand_rs_tb.s','nand_rs_tb.r']\n",
        "time_begin = 0\n",
        "time_end = 31\n",
        "base = 'bin' # bin, dec, dec2, hex, octal"
      ],
      "metadata": {
        "colab": {
          "base_uri": "https://localhost:8080/",
          "height": 153
        },
        "id": "M56dKXLZX6rp",
        "outputId": "161d9e73-bba6-48b9-f4c4-6f591e8a081f"
      },
      "execution_count": 35,
      "outputs": [
        {
          "output_type": "display_data",
          "data": {
            "text/plain": [
              "<Figure size 3200x500 with 1 Axes>"
            ],
            "image/png": "[encoded data removed]"
          },
          "metadata": {}
        }
      ]
    },
    {
      "cell_type": "markdown",
      "source": [
        "## Other Verilog Syntex"
      ],
      "metadata": {
        "id": "pbznXGjnhwMk"
      }
    },
    {
      "cell_type": "markdown",
      "source": [
        "![](https://github.com/pe8sutd/DSL2025/blob/main/VerilogColab1/Slide57.PNG?raw=1)"
      ],
      "metadata": {
        "id": "CnK0MaQQs89e"
      }
    },
    {
      "cell_type": "markdown",
      "source": [
        "![](https://github.com/pe8sutd/DSL2025/blob/main/VerilogColab1/Slide58.PNG?raw=1)"
      ],
      "metadata": {
        "id": "kCFs73Q0s_SG"
      }
    },
    {
      "cell_type": "markdown",
      "source": [
        "![](https://github.com/pe8sutd/DSL2025/blob/main/VerilogColab1/Slide59.PNG?raw=1)"
      ],
      "metadata": {
        "id": "-A4dFQagtB_m"
      }
    },
    {
      "cell_type": "markdown",
      "source": [
        "![](https://github.com/pe8sutd/DSL2025/blob/main/VerilogColab1/Slide60.PNG?raw=1)"
      ],
      "metadata": {
        "id": "dR4ZXJCMtEG2"
      }
    },
    {
      "cell_type": "markdown",
      "source": [
        "![](https://github.com/pe8sutd/DSL2025/blob/main/VerilogColab1/Slide61.PNG?raw=1)"
      ],
      "metadata": {
        "id": "-8kUIgi3tHEe"
      }
    },
    {
      "cell_type": "markdown",
      "source": [
        "![](https://github.com/pe8sutd/DSL2025/blob/main/VerilogColab1/Slide62.PNG?raw=1)"
      ],
      "metadata": {
        "id": "xf3zi0YXtQEe"
      }
    },
    {
      "cell_type": "markdown",
      "source": [
        "![](https://github.com/pe8sutd/DSL2025/blob/main/VerilogColab1/Slide63.PNG?raw=1)"
      ],
      "metadata": {
        "id": "VBFDy-yStSPe"
      }
    },
    {
      "cell_type": "markdown",
      "source": [
        "![](https://github.com/pe8sutd/DSL2025/blob/main/VerilogColab1/Slide64.PNG?raw=1)"
      ],
      "metadata": {
        "id": "fb1o-vFqtVNG"
      }
    },
    {
      "cell_type": "markdown",
      "source": [
        "![](https://github.com/pe8sutd/DSL2025/blob/main/VerilogColab1/Slide65.PNG?raw=1)"
      ],
      "metadata": {
        "id": "88-WjaigtXk2"
      }
    },
    {
      "cell_type": "markdown",
      "source": [
        "## $monitor"
      ],
      "metadata": {
        "id": "_a2mLbqThpMt"
      }
    },
    {
      "cell_type": "markdown",
      "source": [
        "![](https://github.com/pe8sutd/DSL2025/blob/main/VerilogColab1/Slide66.PNG?raw=1)"
      ],
      "metadata": {
        "id": "suQTxWLatZ1m"
      }
    },
    {
      "cell_type": "markdown",
      "source": [
        "![](https://github.com/pe8sutd/DSL2025/blob/main/VerilogColab1/Slide67.PNG?raw=1)"
      ],
      "metadata": {
        "id": "2xFXwBeFtcEG"
      }
    },
    {
      "cell_type": "code",
      "source": [
        "%%verilog\n",
        "\n",
        "module nand_rs_tb; //\n",
        "  wire q,qb; reg s,r;\n",
        "\n",
        "  nand_rs i1(q,qb,s,r);\n",
        "\n",
        "  initial begin\n",
        "  $dumpfile(\"tb.vcd\");\n",
        "  $dumpvars;\n",
        "    s = 0; r = 1;\n",
        "    #10 s=1; r=1;\n",
        "    #10 s=1; r=0;\n",
        "    #10 s=1; r=1;\n",
        "    #1 $finish;\n",
        "  $dumpoff;\n",
        "    end\n",
        "\n",
        "  initial begin\n",
        "    $monitor(\"%d q=%b qb=%b s=%b r=%b\",$time,q,qb,s,r);\n",
        "  end\n",
        "\n",
        "endmodule ////\n",
        "\n",
        "module nand_rs(q,qb,s,r); //\n",
        "  output q,qb;\n",
        "  input s,r;\n",
        "\n",
        "  nand #1 g1 (q,s,qb);\n",
        "  nand #1 g2 (qb,q,r);\n",
        "\n",
        "endmodule ////"
      ],
      "metadata": {
        "colab": {
          "base_uri": "https://localhost:8080/"
        },
        "id": "cZQBRX51Y_Uq",
        "outputId": "4cecec84-31ec-49b3-a8de-1f48906ccd0e"
      },
      "execution_count": 40,
      "outputs": [
        {
          "output_type": "stream",
          "name": "stdout",
          "text": [
            "VCD info: dumpfile tb.vcd opened for output.\n",
            "                   0 q=x qb=x s=0 r=1\n",
            "                   1 q=1 qb=x s=0 r=1\n",
            "                   2 q=1 qb=0 s=0 r=1\n",
            "                  10 q=1 qb=0 s=1 r=1\n",
            "                  20 q=1 qb=0 s=1 r=0\n",
            "                  21 q=1 qb=1 s=1 r=0\n",
            "                  22 q=0 qb=1 s=1 r=0\n",
            "                  30 q=0 qb=1 s=1 r=1\n",
            "\n"
          ]
        }
      ]
    },
    {
      "cell_type": "code",
      "source": [
        "%%waveform tb.vcd\n",
        "sign_list = ['nand_rs_tb.q','nand_rs_tb.qb','nand_rs_tb.s','nand_rs_tb.r']\n",
        "time_begin = 0\n",
        "time_end = 31\n",
        "base = 'bin' # bin, dec, dec2, hex, octal"
      ],
      "metadata": {
        "colab": {
          "base_uri": "https://localhost:8080/",
          "height": 153
        },
        "id": "aN5NgqKXgGWi",
        "outputId": "d88ef438-1e8f-41cc-ed57-84a0c9871346"
      },
      "execution_count": 41,
      "outputs": [
        {
          "output_type": "display_data",
          "data": {
            "text/plain": [
              "<Figure size 3200x500 with 1 Axes>"
            ],
            "image/png": "[encoded data removed]"
          },
          "metadata": {}
        }
      ]
    },
    {
      "cell_type": "markdown",
      "source": [
        "![](https://github.com/pe8sutd/DSL2025/blob/main/VerilogColab1/Slide68.PNG?raw=1)"
      ],
      "metadata": {
        "id": "cM5LVvbNteWv"
      }
    },
    {
      "cell_type": "markdown",
      "source": [
        "![](https://github.com/pe8sutd/DSL2025/blob/main/VerilogColab1/Slide69.PNG?raw=1)"
      ],
      "metadata": {
        "id": "prKce6D6tgid"
      }
    },
    {
      "cell_type": "markdown",
      "source": [
        "## Handson Verilog - NOR Latch"
      ],
      "metadata": {
        "id": "QHFPhL1qhKt0"
      }
    },
    {
      "cell_type": "markdown",
      "source": [
        "![](https://github.com/pe8sutd/DSL2025/blob/main/VerilogColab1/Slide70.PNG?raw=1)"
      ],
      "metadata": {
        "id": "O7cwzBNBtio2"
      }
    },
    {
      "cell_type": "markdown",
      "source": [
        "![](https://github.com/pe8sutd/DSL2025/blob/main/VerilogColab1/Slide71.PNG?raw=1)"
      ],
      "metadata": {
        "id": "GTlCA3u6tm2-"
      }
    },
    {
      "cell_type": "markdown",
      "source": [
        "![](https://github.com/pe8sutd/DSL2025/blob/main/VerilogColab1/Slide72.PNG?raw=1)"
      ],
      "metadata": {
        "id": "n_7MQPxetrvG"
      }
    },
    {
      "cell_type": "markdown",
      "source": [
        "![](https://github.com/pe8sutd/DSL2025/blob/main/VerilogColab1/Slide73.PNG?raw=1)"
      ],
      "metadata": {
        "id": "5dkdHrvktviO"
      }
    },
    {
      "cell_type": "markdown",
      "source": [
        "![](https://github.com/pe8sutd/DSL2025/blob/main/VerilogColab1/Slide74.PNG?raw=1)"
      ],
      "metadata": {
        "id": "PaPUEzj-tyDu"
      }
    },
    {
      "cell_type": "markdown",
      "source": [
        "![](https://github.com/pe8sutd/DSL2025/blob/main/VerilogColab1/Slide75.PNG?raw=1)"
      ],
      "metadata": {
        "id": "iCRo0G5Bt05G"
      }
    },
    {
      "cell_type": "code",
      "source": [
        "%%verilog\n",
        "\n",
        "module nor_rs(q,qb,s,r);\n",
        "  output q,qb;\n",
        "  input r,s;\n",
        "\n",
        "nor #1 n1(q,r,qb);\n",
        "nor #2 n2(qb,q,s);\n",
        "\n",
        "endmodule\n",
        "\n",
        "module nor_rs_tb;\n",
        "  wire q,qb;\n",
        "  reg r,s;\n",
        "\n",
        "  nor_rs i1(q,qb,s,r);\n",
        "\n",
        "  initial begin\n",
        "  $dumpfile(\"nor_rs_tb.vcd\");\n",
        "  $dumpvars;\n",
        "  r=1;s=0;\n",
        "  #10 r=0;s=0;\n",
        "  #10 r=0;s=1;\n",
        "  #10 r=1;s=0;\n",
        "  #10;\n",
        "  $dumpoff;\n",
        "  end\n",
        "\n",
        "  initial begin\n",
        "  $monitor(\"%d q=%b,qb=%b,r=%b,s=%b\", $time,q,qb,r,s);\n",
        "  end\n",
        "\n",
        "endmodule\n"
      ],
      "metadata": {
        "colab": {
          "base_uri": "https://localhost:8080/"
        },
        "id": "XDCYj-EldS1a",
        "outputId": "ec75a1bc-a695-4ec2-c301-5abb65d64dd3"
      },
      "execution_count": 100,
      "outputs": [
        {
          "output_type": "stream",
          "name": "stdout",
          "text": [
            "VCD info: dumpfile nor_rs_tb.vcd opened for output.\n",
            "                   0 q=x,qb=x,r=1,s=0\n",
            "                   1 q=0,qb=x,r=1,s=0\n",
            "                   3 q=0,qb=1,r=1,s=0\n",
            "                  10 q=0,qb=1,r=0,s=0\n",
            "                  20 q=0,qb=1,r=0,s=1\n",
            "                  22 q=0,qb=0,r=0,s=1\n",
            "                  23 q=1,qb=0,r=0,s=1\n",
            "                  30 q=1,qb=0,r=1,s=0\n",
            "                  31 q=0,qb=0,r=1,s=0\n",
            "                  33 q=0,qb=1,r=1,s=0\n",
            "\n"
          ]
        }
      ]
    },
    {
      "cell_type": "code",
      "source": [
        "%%waveform nor_rs_tb.vcd\n",
        "sign_list = ['nor_rs_tb.s','nor_rs_tb.r','nor_rs_tb.q','nor_rs_tb.qb']\n",
        "time_begin = 0\n",
        "time_end = 40\n",
        "base = 'bin' # bin, dec, dec2, hex, octal"
      ],
      "metadata": {
        "colab": {
          "base_uri": "https://localhost:8080/",
          "height": 124
        },
        "id": "k7KY6ifkf_Cr",
        "outputId": "eef6c3c2-4a25-4797-d3d4-4fbbb5632e30"
      },
      "execution_count": 78,
      "outputs": [
        {
          "output_type": "display_data",
          "data": {
            "text/plain": [
              "<Figure size 4100x500 with 1 Axes>"
            ],
            "image/png": "[encoded data removed]"
          },
          "metadata": {}
        }
      ]
    },
    {
      "cell_type": "markdown",
      "source": [
        "![](https://github.com/pe8sutd/DSL2025/blob/main/VerilogColab1/Slide76.PNG?raw=1)"
      ],
      "metadata": {
        "id": "W0_26JpBt3NO"
      }
    },
    {
      "cell_type": "markdown",
      "source": [
        "## D-latch from SR-latch"
      ],
      "metadata": {
        "id": "KuYBLvJTPciJ"
      }
    },
    {
      "cell_type": "markdown",
      "source": [
        "![](https://github.com/pe8sutd/DSL2025/blob/main/VerilogColab3/Slide76_1.PNG?raw=1)"
      ],
      "metadata": {
        "id": "BawKwHUJRdqT"
      }
    },
    {
      "cell_type": "markdown",
      "source": [
        "Additional Exercise: Design a D-latch based on the NAND SR latch. You can refer to the slide above for D-latch. The task is to write a Verilog module and also the testbench. The testbench needs to have Clock signal beside data, D, and output Q, Qb."
      ],
      "metadata": {
        "id": "VttaCUDNU7zx"
      }
    },
    {
      "cell_type": "code",
      "source": [
        "%%print_verilog\n",
        "module dlatch(q,qb,D,Clock); output q,qb; input D,Clock; wire Y,S,R;\n",
        "  not #1 i1(Y,D);\n",
        "  nand #1 n3(S,D,Clock);\n",
        "  nand #1 n4(R,Clock,Y);\n",
        "  nand #1 n1(q,S,qb);\n",
        "  nand #1 n2(qb,q,R);\n",
        "endmodule"
      ],
      "metadata": {
        "id": "JwLF2rlJRc8I",
        "colab": {
          "base_uri": "https://localhost:8080/",
          "height": 231
        },
        "outputId": "598ff5ea-b7de-4164-aeba-8bd3e788d541"
      },
      "execution_count": 130,
      "outputs": [
        {
          "output_type": "display_data",
          "data": {
            "text/plain": [
              "<IPython.core.display.SVG object>"
            ],
            "image/svg+xml": "<svg xmlns=\"http://www.w3.org/2000/svg\" xmlns:xlink=\"http://www.w3.org/1999/xlink\" xmlns:s=\"https://github.com/nturley/netlistsvg\" width=\"512\" height=\"210\"><style>svg {\n  stroke:#000;\n  fill:none;\n}\ntext {\n  fill:#000;\n  stroke:none;\n  font-size:10px;\n  font-weight: bold;\n  font-family: &quot;Courier New&quot;, monospace;\n}\nline {\n    stroke-linecap: round;\n}\n.nodelabel {\n  text-anchor: middle;\n}\n.inputPortLabel {\n  text-anchor: end;\n}\n.splitjoinBody {\n  fill:#000;\n}</style><g s:type=\"and\" transform=\"translate(77,154.5)\" s:width=\"30\" s:height=\"25\" id=\"cell_$and$/content/code.v:3$2\"><s:alias val=\"$and\"/><s:alias val=\"$logic_and\"/><s:alias val=\"$_AND_\"/><s:alias val=\"$reduce_and\"/><path d=\"M0,0 L0,25 L15,25 A15 12.5 0 0 0 15,0 Z\" class=\"cell_$and$/content/code.v:3$2\"/><g s:x=\"0\" s:y=\"5\" s:pid=\"A\"/><g s:x=\"0\" s:y=\"20\" s:pid=\"B\"/><g s:x=\"30\" s:y=\"12.5\" s:pid=\"Y\"/></g><g s:type=\"and\" transform=\"translate(208,92)\" s:width=\"30\" s:height=\"25\" id=\"cell_$and$/content/code.v:4$4\"><s:alias val=\"$and\"/><s:alias val=\"$logic_and\"/><s:alias val=\"$_AND_\"/><s:alias val=\"$reduce_and\"/><path d=\"M0,0 L0,25 L15,25 A15 12.5 0 0 0 15,0 Z\" class=\"cell_$and$/content/code.v:4$4\"/><g s:x=\"0\" s:y=\"5\" s:pid=\"A\"/><g s:x=\"0\" s:y=\"20\" s:pid=\"B\"/><g s:x=\"30\" s:y=\"12.5\" s:pid=\"Y\"/></g><g s:type=\"and\" transform=\"translate(208,162)\" s:width=\"30\" s:height=\"25\" id=\"cell_$and$/content/code.v:5$6\"><s:alias val=\"$and\"/><s:alias val=\"$logic_and\"/><s:alias val=\"$_AND_\"/><s:alias val=\"$reduce_and\"/><path d=\"M0,0 L0,25 L15,25 A15 12.5 0 0 0 15,0 Z\" class=\"cell_$and$/content/code.v:5$6\"/><g s:x=\"0\" s:y=\"5\" s:pid=\"A\"/><g s:x=\"0\" s:y=\"20\" s:pid=\"B\"/><g s:x=\"30\" s:y=\"12.5\" s:pid=\"Y\"/></g><g s:type=\"and\" transform=\"translate(339,84.5)\" s:width=\"30\" s:height=\"25\" id=\"cell_$and$/content/code.v:6$8\"><s:alias val=\"$and\"/><s:alias val=\"$logic_and\"/><s:alias val=\"$_AND_\"/><s:alias val=\"$reduce_and\"/><path d=\"M0,0 L0,25 L15,25 A15 12.5 0 0 0 15,0 Z\" class=\"cell_$and$/content/code.v:6$8\"/><g s:x=\"0\" s:y=\"5\" s:pid=\"A\"/><g s:x=\"0\" s:y=\"20\" s:pid=\"B\"/><g s:x=\"30\" s:y=\"12.5\" s:pid=\"Y\"/></g><g s:type=\"not\" transform=\"translate(143,102)\" s:width=\"30\" s:height=\"20\" id=\"cell_$not$/content/code.v:2$1\"><s:alias val=\"$_NOT_\"/><s:alias val=\"$not\"/><s:alias val=\"$logic_not\"/><path d=\"M0,0 L0,20 L20,10 Z\" class=\"cell_$not$/content/code.v:2$1\"/><circle cx=\"24\" cy=\"10\" r=\"3\" class=\"cell_$not$/content/code.v:2$1\"/><g s:x=\"-1\" s:y=\"10\" s:pid=\"A\"/><g s:x=\"27\" s:y=\"10\" s:pid=\"Y\"/></g><g s:type=\"not\" transform=\"translate(143,157)\" s:width=\"30\" s:height=\"20\" id=\"cell_$not$/content/code.v:3$3\"><s:alias val=\"$_NOT_\"/><s:alias val=\"$not\"/><s:alias val=\"$logic_not\"/><path d=\"M0,0 L0,20 L20,10 Z\" class=\"cell_$not$/content/code.v:3$3\"/><circle cx=\"24\" cy=\"10\" r=\"3\" class=\"cell_$not$/content/code.v:3$3\"/><g s:x=\"-1\" s:y=\"10\" s:pid=\"A\"/><g s:x=\"27\" s:y=\"10\" s:pid=\"Y\"/></g><g s:type=\"not\" transform=\"translate(274,94.5)\" s:width=\"30\" s:height=\"20\" id=\"cell_$not$/content/code.v:4$5\"><s:alias val=\"$_NOT_\"/><s:alias val=\"$not\"/><s:alias val=\"$logic_not\"/><path d=\"M0,0 L0,20 L20,10 Z\" class=\"cell_$not$/content/code.v:4$5\"/><circle cx=\"24\" cy=\"10\" r=\"3\" class=\"cell_$not$/content/code.v:4$5\"/><g s:x=\"-1\" s:y=\"10\" s:pid=\"A\"/><g s:x=\"27\" s:y=\"10\" s:pid=\"Y\"/></g><g s:type=\"not\" transform=\"translate(274,22)\" s:width=\"30\" s:height=\"20\" id=\"cell_$not$/content/code.v:5$7\"><s:alias val=\"$_NOT_\"/><s:alias val=\"$not\"/><s:alias val=\"$logic_not\"/><path d=\"M0,0 L0,20 L20,10 Z\" class=\"cell_$not$/content/code.v:5$7\"/><circle cx=\"24\" cy=\"10\" r=\"3\" class=\"cell_$not$/content/code.v:5$7\"/><g s:x=\"-1\" s:y=\"10\" s:pid=\"A\"/><g s:x=\"27\" s:y=\"10\" s:pid=\"Y\"/></g><g s:type=\"not\" transform=\"translate(405,87)\" s:width=\"30\" s:height=\"20\" id=\"cell_$not$/content/code.v:6$9\"><s:alias val=\"$_NOT_\"/><s:alias val=\"$not\"/><s:alias val=\"$logic_not\"/><path d=\"M0,0 L0,20 L20,10 Z\" class=\"cell_$not$/content/code.v:6$9\"/><circle cx=\"24\" cy=\"10\" r=\"3\" class=\"cell_$not$/content/code.v:6$9\"/><g s:x=\"-1\" s:y=\"10\" s:pid=\"A\"/><g s:x=\"27\" s:y=\"10\" s:pid=\"Y\"/></g><g s:type=\"outputExt\" transform=\"translate(470,22)\" s:width=\"30\" s:height=\"20\" id=\"cell_q\"><text x=\"15\" y=\"-4\" class=\"nodelabel cell_q\" s:attribute=\"ref\">q</text><s:alias val=\"$_outputExt_\"/><path d=\"M30,0 L30,20 L15,20 L0,10 L15,0 Z\" class=\"cell_q\"/><g s:x=\"0\" s:y=\"10\" s:pid=\"A\"/></g><g s:type=\"outputExt\" transform=\"translate(470,87)\" s:width=\"30\" s:height=\"20\" id=\"cell_qb\"><text x=\"15\" y=\"-4\" class=\"nodelabel cell_qb\" s:attribute=\"ref\">qb</text><s:alias val=\"$_outputExt_\"/><path d=\"M30,0 L30,20 L15,20 L0,10 L15,0 Z\" class=\"cell_qb\"/><g s:x=\"0\" s:y=\"10\" s:pid=\"A\"/></g><g s:type=\"inputExt\" transform=\"translate(12,149.5)\" s:width=\"30\" s:height=\"20\" id=\"cell_D\"><text x=\"15\" y=\"-4\" class=\"nodelabel cell_D\" s:attribute=\"ref\">D</text><s:alias val=\"$_inputExt_\"/><path d=\"M0,0 L0,20 L15,20 L30,10 L15,0 Z\" class=\"cell_D\"/><g s:x=\"30\" s:y=\"10\" s:pid=\"Y\"/></g><g s:type=\"inputExt\" transform=\"translate(12,81)\" s:width=\"30\" s:height=\"20\" id=\"cell_Clock\"><text x=\"15\" y=\"-4\" class=\"nodelabel cell_Clock\" s:attribute=\"ref\">Clock</text><s:alias val=\"$_inputExt_\"/><path d=\"M0,0 L0,20 L15,20 L30,10 L15,0 Z\" class=\"cell_Clock\"/><g s:x=\"30\" s:y=\"10\" s:pid=\"Y\"/></g><line x1=\"42\" x2=\"77\" y1=\"159.5\" y2=\"159.5\" class=\"net_4 width_1\" style=\"stroke-width: 1\"/><line x1=\"42\" x2=\"62\" y1=\"159.5\" y2=\"159.5\" class=\"net_4 width_1\" style=\"stroke-width: 1\"/><line x1=\"62\" x2=\"62\" y1=\"159.5\" y2=\"112\" class=\"net_4 width_1\" style=\"stroke-width: 1\"/><circle cx=\"62\" cy=\"159.5\" r=\"2\" style=\"fill:#000\" class=\"net_4 width_1\"/><line x1=\"62\" x2=\"142\" y1=\"112\" y2=\"112\" class=\"net_4 width_1\" style=\"stroke-width: 1\"/><line x1=\"42\" x2=\"52\" y1=\"91\" y2=\"91\" class=\"net_5 width_1\" style=\"stroke-width: 1\"/><line x1=\"52\" x2=\"52\" y1=\"91\" y2=\"174.5\" class=\"net_5 width_1\" style=\"stroke-width: 1\"/><circle cx=\"52\" cy=\"91\" r=\"2\" style=\"fill:#000\" class=\"net_5 width_1\"/><line x1=\"52\" x2=\"77\" y1=\"174.5\" y2=\"174.5\" class=\"net_5 width_1\" style=\"stroke-width: 1\"/><line x1=\"42\" x2=\"183\" y1=\"91\" y2=\"91\" class=\"net_5 width_1\" style=\"stroke-width: 1\"/><line x1=\"183\" x2=\"183\" y1=\"91\" y2=\"97\" class=\"net_5 width_1\" style=\"stroke-width: 1\"/><line x1=\"183\" x2=\"208\" y1=\"97\" y2=\"97\" class=\"net_5 width_1\" style=\"stroke-width: 1\"/><line x1=\"170\" x2=\"208\" y1=\"112\" y2=\"112\" class=\"net_7 width_1\" style=\"stroke-width: 1\"/><line x1=\"170\" x2=\"208\" y1=\"167\" y2=\"167\" class=\"net_9 width_1\" style=\"stroke-width: 1\"/><line x1=\"432\" x2=\"445\" y1=\"97\" y2=\"97\" class=\"net_3 width_1\" style=\"stroke-width: 1\"/><line x1=\"445\" x2=\"445\" y1=\"97\" y2=\"197\" class=\"net_3 width_1\" style=\"stroke-width: 1\"/><line x1=\"445\" x2=\"183\" y1=\"197\" y2=\"197\" class=\"net_3 width_1\" style=\"stroke-width: 1\"/><line x1=\"183\" x2=\"183\" y1=\"197\" y2=\"182\" class=\"net_3 width_1\" style=\"stroke-width: 1\"/><circle cx=\"445\" cy=\"97\" r=\"2\" style=\"fill:#000\" class=\"net_3 width_1\"/><line x1=\"183\" x2=\"208\" y1=\"182\" y2=\"182\" class=\"net_3 width_1\" style=\"stroke-width: 1\"/><line x1=\"432\" x2=\"470\" y1=\"97\" y2=\"97\" class=\"net_3 width_1\" style=\"stroke-width: 1\"/><line x1=\"301\" x2=\"314\" y1=\"32\" y2=\"32\" class=\"net_2 width_1\" style=\"stroke-width: 1\"/><line x1=\"314\" x2=\"314\" y1=\"32\" y2=\"89.5\" class=\"net_2 width_1\" style=\"stroke-width: 1\"/><circle cx=\"314\" cy=\"32\" r=\"2\" style=\"fill:#000\" class=\"net_2 width_1\"/><line x1=\"314\" x2=\"339\" y1=\"89.5\" y2=\"89.5\" class=\"net_2 width_1\" style=\"stroke-width: 1\"/><line x1=\"301\" x2=\"470\" y1=\"32\" y2=\"32\" class=\"net_2 width_1\" style=\"stroke-width: 1\"/><line x1=\"301\" x2=\"339\" y1=\"104.5\" y2=\"104.5\" class=\"net_11 width_1\" style=\"stroke-width: 1\"/><line x1=\"107\" x2=\"142\" y1=\"167\" y2=\"167\" class=\"net_6 width_1\" style=\"stroke-width: 1\"/><line x1=\"238\" x2=\"273\" y1=\"104.5\" y2=\"104.5\" class=\"net_8 width_1\" style=\"stroke-width: 1\"/><line x1=\"238\" x2=\"248\" y1=\"174.5\" y2=\"174.5\" class=\"net_10 width_1\" style=\"stroke-width: 1\"/><line x1=\"248\" x2=\"248\" y1=\"174.5\" y2=\"32\" class=\"net_10 width_1\" style=\"stroke-width: 1\"/><line x1=\"248\" x2=\"273\" y1=\"32\" y2=\"32\" class=\"net_10 width_1\" style=\"stroke-width: 1\"/><line x1=\"369\" x2=\"404\" y1=\"97\" y2=\"97\" class=\"net_12 width_1\" style=\"stroke-width: 1\"/></svg>"
          },
          "metadata": {}
        }
      ]
    },
    {
      "cell_type": "code",
      "source": [
        "%%verilog\n",
        "module dlatch(q,qb,D,Clock); output q,qb; input D,Clock; wire Y,S,R;\n",
        "  not #1 i1(Y,D);\n",
        "  nand #1 n3(S,D,Clock);\n",
        "  nand #1 n4(R,Clock,Y);\n",
        "  nand #1 n1(q,S,qb);\n",
        "  nand #1 n2(qb,q,R);\n",
        "endmodule\n",
        "\n",
        "module dlatch_tb;\n",
        "  wire q,qb;\n",
        "  reg D,Clock;\n",
        "\n",
        "  dlatch i1(q,qb,D,Clock);\n",
        "\n",
        "  initial begin\n",
        "  $dumpfile(\"dlatch_tb.vcd\");\n",
        "  $dumpvars;\n",
        "  D=0;Clock=0;\n",
        "  #10 D=0;Clock=1;\n",
        "  #10 D=1;Clock=0;\n",
        "  #10 D=1;Clock=1;\n",
        "  #10;\n",
        "  $dumpoff;\n",
        "  end\n",
        "\n",
        "endmodule\n",
        "\n"
      ],
      "metadata": {
        "id": "I5WmB94JVufi",
        "colab": {
          "base_uri": "https://localhost:8080/"
        },
        "outputId": "642f7430-0568-47f1-a548-04e95bd5b2b3"
      },
      "execution_count": 137,
      "outputs": [
        {
          "output_type": "stream",
          "name": "stdout",
          "text": [
            "VCD info: dumpfile dlatch_tb.vcd opened for output.\n",
            "\n"
          ]
        }
      ]
    },
    {
      "cell_type": "code",
      "source": [
        "%%waveform dlatch_tb.vcd\n",
        "sign_list = ['dlatch_tb.D','dlatch_tb.Clock','dlatch_tb.q','dlatch_tb.qb']\n",
        "time_begin = 0\n",
        "time_end = 40\n",
        "base = 'bin'"
      ],
      "metadata": {
        "id": "Rj0pByB3V2rI",
        "colab": {
          "base_uri": "https://localhost:8080/",
          "height": 124
        },
        "outputId": "5523f681-04fe-4371-962b-a2abe5df3245"
      },
      "execution_count": 138,
      "outputs": [
        {
          "output_type": "display_data",
          "data": {
            "text/plain": [
              "<Figure size 4100x500 with 1 Axes>"
            ],
            "image/png": "[encoded data removed]"
          },
          "metadata": {}
        }
      ]
    },
    {
      "cell_type": "markdown",
      "source": [
        "## D Flip-Flop from D-latch"
      ],
      "metadata": {
        "id": "UMDX6coDbi2K"
      }
    },
    {
      "cell_type": "markdown",
      "source": [
        "![](https://github.com/pe8sutd/DSL2025/blob/main/VerilogColab3/Slide76_2.PNG?raw=1)"
      ],
      "metadata": {
        "id": "N9kiEWcSbqtx"
      }
    },
    {
      "cell_type": "markdown",
      "source": [
        "DFF (D Flip-Flop) can be built up using two D-latch in series connection as the above diagram. Write a Verilog module of this DFF, and it testbench. Verify if the output changes on Posedge Edge or Negative Edge of the Clock signal?"
      ],
      "metadata": {
        "id": "x7E3p-ltbyuB"
      }
    },
    {
      "cell_type": "code",
      "source": [
        "%%print_verilog"
      ],
      "metadata": {
        "id": "IShz6_mDcNZQ"
      },
      "execution_count": null,
      "outputs": []
    },
    {
      "cell_type": "code",
      "source": [
        "%%verilog"
      ],
      "metadata": {
        "id": "FyZitFYFcNIx"
      },
      "execution_count": null,
      "outputs": []
    },
    {
      "cell_type": "code",
      "source": [
        "%%waveform tb.vcd"
      ],
      "metadata": {
        "id": "_BranDDjcM0B"
      },
      "execution_count": null,
      "outputs": []
    },
    {
      "cell_type": "markdown",
      "source": [
        "## Behavioral Modelling"
      ],
      "metadata": {
        "id": "bFhViPIGdDQq"
      }
    },
    {
      "cell_type": "markdown",
      "source": [
        "![](https://github.com/pe8sutd/DSL2025/blob/main/VerilogColab1/Slide77.PNG?raw=1)"
      ],
      "metadata": {
        "id": "0ERwwmQmt5T2"
      }
    },
    {
      "cell_type": "markdown",
      "source": [
        "![](https://github.com/pe8sutd/DSL2025/blob/main/VerilogColab1/Slide78.PNG?raw=1)"
      ],
      "metadata": {
        "id": "wJWPF__St7zG"
      }
    },
    {
      "cell_type": "markdown",
      "source": [
        "![](https://github.com/pe8sutd/DSL2025/blob/main/VerilogColab1/Slide79.PNG?raw=1)"
      ],
      "metadata": {
        "id": "vNnYBVg-t-Hu"
      }
    },
    {
      "cell_type": "markdown",
      "source": [
        "![](https://github.com/pe8sutd/DSL2025/blob/main/VerilogColab1/Slide80.PNG?raw=1)"
      ],
      "metadata": {
        "id": "xtB5m9XduAc2"
      }
    },
    {
      "cell_type": "markdown",
      "source": [
        "![](https://github.com/pe8sutd/DSL2025/blob/main/VerilogColab1/Slide81.PNG?raw=1)"
      ],
      "metadata": {
        "id": "jrVzqHCNuDE_"
      }
    },
    {
      "cell_type": "markdown",
      "source": [
        "![](https://github.com/pe8sutd/DSL2025/blob/main/VerilogColab1/Slide82.PNG?raw=1)"
      ],
      "metadata": {
        "id": "vMxXaDYQuFKf"
      }
    },
    {
      "cell_type": "markdown",
      "source": [
        "![](https://github.com/pe8sutd/DSL2025/blob/main/VerilogColab1/Slide83.PNG?raw=1)"
      ],
      "metadata": {
        "id": "tVnTjBy4uI-P"
      }
    },
    {
      "cell_type": "markdown",
      "source": [
        "![](https://github.com/pe8sutd/DSL2025/blob/main/VerilogColab1/Slide84.PNG?raw=1)"
      ],
      "metadata": {
        "id": "riK_sCHsuO_e"
      }
    },
    {
      "cell_type": "markdown",
      "source": [
        "![](https://github.com/pe8sutd/DSL2025/blob/main/VerilogColab1/Slide85.PNG?raw=1)"
      ],
      "metadata": {
        "id": "K02ln7j4uRPn"
      }
    },
    {
      "cell_type": "markdown",
      "source": [
        "![](https://github.com/pe8sutd/DSL2025/blob/main/VerilogColab1/Slide86.PNG?raw=1)"
      ],
      "metadata": {
        "id": "A5qLZdsTuTZO"
      }
    },
    {
      "cell_type": "markdown",
      "source": [
        "![](https://github.com/pe8sutd/DSL2025/blob/main/VerilogColab1/Slide87.PNG?raw=1)"
      ],
      "metadata": {
        "id": "rNtOsPF8uW2m"
      }
    },
    {
      "cell_type": "markdown",
      "source": [
        "![](https://github.com/pe8sutd/DSL2025/blob/main/VerilogColab1/Slide88.PNG?raw=1)"
      ],
      "metadata": {
        "id": "BdUz5n2PuZTP"
      }
    },
    {
      "cell_type": "markdown",
      "source": [
        "![](https://github.com/pe8sutd/DSL2025/blob/main/VerilogColab1/Slide89.PNG?raw=1)"
      ],
      "metadata": {
        "id": "cZD6t8p3ufLZ"
      }
    },
    {
      "cell_type": "markdown",
      "source": [
        "## Multiplexor"
      ],
      "metadata": {
        "id": "rQ1yI8qcPuGx"
      }
    },
    {
      "cell_type": "markdown",
      "source": [
        "![](https://github.com/pe8sutd/DSL2025/blob/main/VerilogColab1/Slide90.PNG?raw=1)"
      ],
      "metadata": {
        "id": "OgQQm9meuhm3"
      }
    },
    {
      "cell_type": "markdown",
      "source": [
        "![](https://github.com/pe8sutd/DSL2025/blob/main/VerilogColab1/Slide91.PNG?raw=1)"
      ],
      "metadata": {
        "id": "YL4RXUOGuk6n"
      }
    },
    {
      "cell_type": "markdown",
      "source": [
        "![](https://github.com/pe8sutd/DSL2025/blob/main/VerilogColab1/Slide92.PNG?raw=1)"
      ],
      "metadata": {
        "id": "FRnDKDquunZv"
      }
    },
    {
      "cell_type": "markdown",
      "source": [
        "## Decoder"
      ],
      "metadata": {
        "id": "8RZHYs0OPzXw"
      }
    },
    {
      "cell_type": "markdown",
      "source": [
        "![](https://github.com/pe8sutd/DSL2025/blob/main/VerilogColab1/Slide93.PNG?raw=1)"
      ],
      "metadata": {
        "id": "paVc45Lcuq6f"
      }
    },
    {
      "cell_type": "markdown",
      "source": [
        "![](https://github.com/pe8sutd/DSL2025/blob/main/VerilogColab1/Slide94.PNG?raw=1)"
      ],
      "metadata": {
        "id": "m-D-yKlgutxP"
      }
    },
    {
      "cell_type": "markdown",
      "source": [
        "![](https://github.com/pe8sutd/DSL2025/blob/main/VerilogColab1/Slide95.PNG?raw=1)"
      ],
      "metadata": {
        "id": "SFbsxU8kuwR3"
      }
    },
    {
      "cell_type": "markdown",
      "source": [
        "![](https://github.com/pe8sutd/DSL2025/blob/main/VerilogColab1/Slide96.PNG?raw=1)"
      ],
      "metadata": {
        "id": "WpTa83Myu0I_"
      }
    },
    {
      "cell_type": "markdown",
      "source": [
        "## Synchronous"
      ],
      "metadata": {
        "id": "I-9AcbkkP4Zg"
      }
    },
    {
      "cell_type": "markdown",
      "source": [
        "![](https://github.com/pe8sutd/DSL2025/blob/main/VerilogColab1/Slide97.PNG?raw=1)"
      ],
      "metadata": {
        "id": "gAJdakSFu3HH"
      }
    },
    {
      "cell_type": "markdown",
      "source": [
        "![](https://github.com/pe8sutd/DSL2025/blob/main/VerilogColab1/Slide98.PNG?raw=1)"
      ],
      "metadata": {
        "id": "S_EracUiu5xv"
      }
    },
    {
      "cell_type": "markdown",
      "source": [
        "![](https://github.com/pe8sutd/DSL2025/blob/main/VerilogColab1/Slide99.PNG?raw=1)"
      ],
      "metadata": {
        "id": "WCyMlEWku76P"
      }
    },
    {
      "cell_type": "markdown",
      "source": [
        "![](https://github.com/pe8sutd/DSL2025/blob/main/VerilogColab2/Slide100.PNG?raw=1)"
      ],
      "metadata": {
        "id": "2JzRV_Ocu-NP"
      }
    },
    {
      "cell_type": "markdown",
      "source": [
        "![](https://github.com/pe8sutd/DSL2025/blob/main/VerilogColab2/Slide101.PNG?raw=1)"
      ],
      "metadata": {
        "id": "QcDHfNKovVEv"
      }
    },
    {
      "cell_type": "markdown",
      "source": [
        "![](https://github.com/pe8sutd/DSL2025/blob/main/VerilogColab2/Slide102.PNG?raw=1)"
      ],
      "metadata": {
        "id": "vutKcDGrvU6P"
      }
    },
    {
      "cell_type": "markdown",
      "source": [
        "![](https://github.com/pe8sutd/DSL2025/blob/main/VerilogColab2/Slide102.PNG?raw=1)"
      ],
      "metadata": {
        "id": "hKtLaiP0vUu3"
      }
    },
    {
      "cell_type": "markdown",
      "source": [
        "![](https://github.com/pe8sutd/DSL2025/blob/main/VerilogColab2/Slide103.PNG?raw=1)"
      ],
      "metadata": {
        "id": "9JVLkZfJvUmn"
      }
    },
    {
      "cell_type": "markdown",
      "source": [
        "![](https://github.com/pe8sutd/DSL2025/blob/main/VerilogColab2/Slide104.PNG?raw=1)"
      ],
      "metadata": {
        "id": "hztneRsmvUeo"
      }
    },
    {
      "cell_type": "markdown",
      "source": [
        "![](https://github.com/pe8sutd/DSL2025/blob/main/VerilogColab2/Slide105.PNG?raw=1)"
      ],
      "metadata": {
        "id": "hlSryUmqvzGe"
      }
    },
    {
      "cell_type": "markdown",
      "source": [
        "## Module Hierarchy"
      ],
      "metadata": {
        "id": "aa0G29RLQAe5"
      }
    },
    {
      "cell_type": "markdown",
      "source": [
        "![](https://github.com/pe8sutd/DSL2025/blob/main/VerilogColab2/Slide106.PNG?raw=1)"
      ],
      "metadata": {
        "id": "VkhZ0I3TvzCI"
      }
    },
    {
      "cell_type": "markdown",
      "source": [
        "![](https://github.com/pe8sutd/DSL2025/blob/main/VerilogColab2/Slide107.PNG?raw=1)"
      ],
      "metadata": {
        "id": "36G_b0AGvy-Q"
      }
    },
    {
      "cell_type": "markdown",
      "source": [
        "![](https://github.com/pe8sutd/DSL2025/blob/main/VerilogColab2/Slide108.PNG?raw=1)"
      ],
      "metadata": {
        "id": "QVV1UTmEvy6h"
      }
    },
    {
      "cell_type": "markdown",
      "source": [
        "![](https://github.com/pe8sutd/DSL2025/blob/main/VerilogColab2/Slide109.PNG?raw=1)"
      ],
      "metadata": {
        "id": "uF9RdNNrvy2p"
      }
    },
    {
      "cell_type": "markdown",
      "source": [
        "![](https://github.com/pe8sutd/DSL2025/blob/main/VerilogColab2/Slide110.PNG?raw=1)"
      ],
      "metadata": {
        "id": "nB1YZcjQvyy2"
      }
    },
    {
      "cell_type": "markdown",
      "source": [
        "![](https://github.com/pe8sutd/DSL2025/blob/main/VerilogColab2/Slide111.PNG?raw=1)"
      ],
      "metadata": {
        "id": "UfH4PA_nvytZ"
      }
    },
    {
      "cell_type": "markdown",
      "source": [
        "![](https://github.com/pe8sutd/DSL2025/blob/main/VerilogColab2/Slide112.PNG?raw=1)"
      ],
      "metadata": {
        "id": "evb9NfGTvyp0"
      }
    },
    {
      "cell_type": "markdown",
      "source": [
        "## Synthesis and Optimization"
      ],
      "metadata": {
        "id": "ojLTzO-bQGZh"
      }
    },
    {
      "cell_type": "markdown",
      "source": [
        "![](https://github.com/pe8sutd/DSL2025/blob/main/VerilogColab2/Slide113.PNG?raw=1)"
      ],
      "metadata": {
        "id": "IjELAXYbvymc"
      }
    },
    {
      "cell_type": "markdown",
      "source": [
        "![](https://github.com/pe8sutd/DSL2025/blob/main/VerilogColab2/Slide114.PNG?raw=1)"
      ],
      "metadata": {
        "id": "26Qilc7Avyi4"
      }
    },
    {
      "cell_type": "markdown",
      "source": [
        "![](https://github.com/pe8sutd/DSL2025/blob/main/VerilogColab2/Slide115.PNG?raw=1)"
      ],
      "metadata": {
        "id": "FVa-a1Mgvyfg"
      }
    },
    {
      "cell_type": "markdown",
      "source": [
        "![](https://github.com/pe8sutd/DSL2025/blob/main/VerilogColab2/Slide116.PNG?raw=1)"
      ],
      "metadata": {
        "id": "uU7z7TODvybb"
      }
    },
    {
      "cell_type": "markdown",
      "source": [
        "![](https://github.com/pe8sutd/DSL2025/blob/main/VerilogColab2/Slide117.PNG?raw=1)"
      ],
      "metadata": {
        "id": "lKEVtgzovyXq"
      }
    },
    {
      "cell_type": "markdown",
      "source": [
        "![](https://github.com/pe8sutd/DSL2025/blob/main/VerilogColab2/Slide118.PNG?raw=1)"
      ],
      "metadata": {
        "id": "iCRUfxnNvyTu"
      }
    },
    {
      "cell_type": "markdown",
      "source": [
        "![](https://github.com/pe8sutd/DSL2025/blob/main/VerilogColab2/Slide119.PNG?raw=1)"
      ],
      "metadata": {
        "id": "qLyeixO_vyPQ"
      }
    },
    {
      "cell_type": "markdown",
      "source": [
        "![](https://github.com/pe8sutd/DSL2025/blob/main/VerilogColab2/Slide120.PNG?raw=1)"
      ],
      "metadata": {
        "id": "ujSQovonwj-I"
      }
    },
    {
      "cell_type": "markdown",
      "source": [
        "## FAQ"
      ],
      "metadata": {
        "id": "UpzzBXO4QOp4"
      }
    },
    {
      "cell_type": "markdown",
      "source": [
        "![](https://github.com/pe8sutd/DSL2025/blob/main/VerilogColab2/Slide121.PNG?raw=1)"
      ],
      "metadata": {
        "id": "ZtmpwLkDwj6T"
      }
    },
    {
      "cell_type": "markdown",
      "source": [
        "![](https://github.com/pe8sutd/DSL2025/blob/main/VerilogColab2/Slide122.PNG?raw=1)"
      ],
      "metadata": {
        "id": "Mv5NhrjVwj2O"
      }
    },
    {
      "cell_type": "markdown",
      "source": [
        "## Blocking - Nonblocking"
      ],
      "metadata": {
        "id": "MeTuxG2yQttd"
      }
    },
    {
      "cell_type": "markdown",
      "source": [
        "![](https://github.com/pe8sutd/DSL2025/blob/main/VerilogColab2/Slide123.PNG?raw=1)"
      ],
      "metadata": {
        "id": "-tsQEamkwjyV"
      }
    },
    {
      "cell_type": "markdown",
      "source": [
        "![](https://github.com/pe8sutd/DSL2025/blob/main/VerilogColab2/Slide124.PNG?raw=1)"
      ],
      "metadata": {
        "id": "WwWx5TiAwjuL"
      }
    },
    {
      "cell_type": "markdown",
      "source": [
        "![](https://github.com/pe8sutd/DSL2025/blob/main/VerilogColab2/Slide125.PNG?raw=1)"
      ],
      "metadata": {
        "id": "_jlC6I_8wjqR"
      }
    },
    {
      "cell_type": "markdown",
      "source": [
        "![](https://github.com/pe8sutd/DSL2025/blob/main/VerilogColab2/Slide126.PNG?raw=1)"
      ],
      "metadata": {
        "id": "qHpZEEHRwjmW"
      }
    },
    {
      "cell_type": "markdown",
      "source": [
        "![](https://github.com/pe8sutd/DSL2025/blob/main/VerilogColab2/Slide127.PNG?raw=1)"
      ],
      "metadata": {
        "id": "uNBQNYBywjie"
      }
    },
    {
      "cell_type": "markdown",
      "source": [
        "![](https://github.com/pe8sutd/DSL2025/blob/main/VerilogColab2/Slide128.PNG?raw=1)"
      ],
      "metadata": {
        "id": "daQS2kK-wjei"
      }
    },
    {
      "cell_type": "markdown",
      "source": [
        "![](https://github.com/pe8sutd/DSL2025/blob/main/VerilogColab2/Slide129.PNG?raw=1)"
      ],
      "metadata": {
        "id": "NM7zDlDGwjaL"
      }
    },
    {
      "cell_type": "markdown",
      "source": [
        "![](https://github.com/pe8sutd/DSL2025/blob/main/VerilogColab2/Slide130.PNG?raw=1)"
      ],
      "metadata": {
        "id": "Z7ACrxcKwjVu"
      }
    },
    {
      "cell_type": "markdown",
      "source": [
        "![](https://github.com/pe8sutd/DSL2025/blob/main/VerilogColab2/Slide131.PNG?raw=1)"
      ],
      "metadata": {
        "id": "b-dwOVtHwjQ5"
      }
    },
    {
      "cell_type": "markdown",
      "source": [
        "![](https://github.com/pe8sutd/DSL2025/blob/main/VerilogColab2/Slide132.PNG?raw=1)"
      ],
      "metadata": {
        "id": "A3KbpC27wjMl"
      }
    },
    {
      "cell_type": "markdown",
      "source": [
        "![](https://github.com/pe8sutd/DSL2025/blob/main/VerilogColab2/Slide133.PNG?raw=1)"
      ],
      "metadata": {
        "id": "7MCHYgJ5wjHZ"
      }
    },
    {
      "cell_type": "markdown",
      "source": [
        "![](https://github.com/pe8sutd/DSL2025/blob/main/VerilogColab2/Slide134.PNG?raw=1)"
      ],
      "metadata": {
        "id": "lVWERBzrwjCu"
      }
    },
    {
      "cell_type": "markdown",
      "source": [
        "## Continuous Assignments"
      ],
      "metadata": {
        "id": "_HJq55nMQWWw"
      }
    },
    {
      "cell_type": "markdown",
      "source": [
        "![](https://github.com/pe8sutd/DSL2025/blob/main/VerilogColab2/Slide135.PNG?raw=1)"
      ],
      "metadata": {
        "id": "ownhtqLhwi-v"
      }
    },
    {
      "cell_type": "markdown",
      "source": [
        "## Procedure Assignments"
      ],
      "metadata": {
        "id": "vrcdzhFwQctw"
      }
    },
    {
      "cell_type": "markdown",
      "source": [
        "![](https://github.com/pe8sutd/DSL2025/blob/main/VerilogColab2/Slide136.PNG?raw=1)"
      ],
      "metadata": {
        "id": "aZ_ayOSSwi60"
      }
    },
    {
      "cell_type": "markdown",
      "source": [
        "![](https://github.com/pe8sutd/DSL2025/blob/main/VerilogColab2/Slide137.PNG?raw=1)"
      ],
      "metadata": {
        "id": "v0_MemMYwi2-"
      }
    },
    {
      "cell_type": "markdown",
      "source": [
        "## Verilog VCD Dump"
      ],
      "metadata": {
        "id": "Mrv5x28WQhUb"
      }
    },
    {
      "cell_type": "markdown",
      "source": [
        "![](https://github.com/pe8sutd/DSL2025/blob/main/VerilogColab2/Slide138.PNG?raw=1)"
      ],
      "metadata": {
        "id": "dv8yWy_Ywiy1"
      }
    },
    {
      "cell_type": "markdown",
      "source": [
        "![](https://github.com/pe8sutd/DSL2025/blob/main/VerilogColab2/Slide139.PNG?raw=1)"
      ],
      "metadata": {
        "id": "2ZGED-OWwiuz"
      }
    },
    {
      "cell_type": "markdown",
      "source": [
        "![](https://github.com/pe8sutd/DSL2025/blob/main/VerilogColab2/Slide140.PNG?raw=1)"
      ],
      "metadata": {
        "id": "vD6X-9XIwirE"
      }
    },
    {
      "cell_type": "markdown",
      "source": [
        "![](https://github.com/pe8sutd/DSL2025/blob/main/VerilogColab2/Slide141.PNG?raw=1)"
      ],
      "metadata": {
        "id": "VI3NAd_Fwimb"
      }
    },
    {
      "cell_type": "markdown",
      "source": [
        "![](https://github.com/pe8sutd/DSL2025/blob/main/VerilogColab2/Slide142.PNG?raw=1)"
      ],
      "metadata": {
        "id": "r6F7f-1nwig3"
      }
    },
    {
      "cell_type": "markdown",
      "source": [
        "![](https://github.com/pe8sutd/DSL2025/blob/main/VerilogColab2/Slide143.PNG?raw=1)"
      ],
      "metadata": {
        "id": "fCDBRTgUxioE"
      }
    },
    {
      "cell_type": "markdown",
      "source": [
        "![](https://github.com/pe8sutd/DSL2025/blob/main/VerilogColab2/Slide144.PNG?raw=1)"
      ],
      "metadata": {
        "id": "ug-5uq4vxiV5"
      }
    }
  ]
}